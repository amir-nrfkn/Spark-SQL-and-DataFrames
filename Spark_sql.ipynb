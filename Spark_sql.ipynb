{
 "cells": [
  {
   "cell_type": "markdown",
   "id": "f77cf0e0",
   "metadata": {},
   "source": [
    "- import spark SQL library"
   ]
  },
  {
   "cell_type": "code",
   "execution_count": 1,
   "id": "3e7c9204",
   "metadata": {},
   "outputs": [],
   "source": [
    "from pyspark.sql import SparkSession"
   ]
  },
  {
   "cell_type": "markdown",
   "id": "c7414f36",
   "metadata": {},
   "source": [
    "- Create spark session"
   ]
  },
  {
   "cell_type": "code",
   "execution_count": 2,
   "id": "ff3b6e04",
   "metadata": {},
   "outputs": [
    {
     "name": "stderr",
     "output_type": "stream",
     "text": [
      "23/01/11 23:07:54 WARN Utils: Your hostname, BigMac.local resolves to a loopback address: 127.0.0.1; using 192.168.0.186 instead (on interface en0)\n",
      "23/01/11 23:07:54 WARN Utils: Set SPARK_LOCAL_IP if you need to bind to another address\n",
      "Using Spark's default log4j profile: org/apache/spark/log4j-defaults.properties\n",
      "Setting default log level to \"WARN\".\n",
      "To adjust logging level use sc.setLogLevel(newLevel). For SparkR, use setLogLevel(newLevel).\n",
      "23/01/11 23:07:54 WARN NativeCodeLoader: Unable to load native-hadoop library for your platform... using builtin-java classes where applicable\n",
      "23/01/11 23:07:55 WARN Utils: Service 'SparkUI' could not bind on port 4040. Attempting port 4041.\n"
     ]
    }
   ],
   "source": [
    "spark = SparkSession.builder.appName(\"Spark SQL Query Dataframes\").getOrCreate()"
   ]
  },
  {
   "cell_type": "code",
   "execution_count": null,
   "id": "72700d1f",
   "metadata": {},
   "outputs": [],
   "source": [
    "path = ''"
   ]
  }
 ],
 "metadata": {
  "kernelspec": {
   "display_name": "Python 3 (ipykernel)",
   "language": "python",
   "name": "python3"
  },
  "language_info": {
   "codemirror_mode": {
    "name": "ipython",
    "version": 3
   },
   "file_extension": ".py",
   "mimetype": "text/x-python",
   "name": "python",
   "nbconvert_exporter": "python",
   "pygments_lexer": "ipython3",
   "version": "3.9.13"
  }
 },
 "nbformat": 4,
 "nbformat_minor": 5
}
