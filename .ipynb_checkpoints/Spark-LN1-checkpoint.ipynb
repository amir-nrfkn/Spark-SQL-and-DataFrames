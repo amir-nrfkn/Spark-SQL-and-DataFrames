{
 "cells": [
  {
   "cell_type": "code",
   "execution_count": 1,
   "id": "8a637e46",
   "metadata": {},
   "outputs": [],
   "source": [
    "from pyspark.sql import SparkSession"
   ]
  },
  {
   "cell_type": "code",
   "execution_count": 4,
   "id": "6592b02d",
   "metadata": {},
   "outputs": [
    {
     "name": "stderr",
     "output_type": "stream",
     "text": [
      "23/01/08 20:17:40 WARN Utils: Your hostname, BigMac.local resolves to a loopback address: 127.0.0.1; using 192.168.0.186 instead (on interface en0)\n",
      "23/01/08 20:17:40 WARN Utils: Set SPARK_LOCAL_IP if you need to bind to another address\n",
      "Using Spark's default log4j profile: org/apache/spark/log4j-defaults.properties\n",
      "Setting default log level to \"WARN\".\n",
      "To adjust logging level use sc.setLogLevel(newLevel). For SparkR, use setLogLevel(newLevel).\n",
      "23/01/08 20:17:41 WARN NativeCodeLoader: Unable to load native-hadoop library for your platform... using builtin-java classes where applicable\n"
     ]
    }
   ],
   "source": [
    "# create spark session\n",
    "spark = SparkSession.builder.getOrCreate()"
   ]
  },
  {
   "cell_type": "code",
   "execution_count": 5,
   "id": "04b3b306",
   "metadata": {},
   "outputs": [],
   "source": [
    "data_path = \"/Users/amir/Documents/Courses/LN_IntroToApacheSpark/work/Exercise Files/Data\""
   ]
  },
  {
   "cell_type": "markdown",
   "id": "f53f62c2",
   "metadata": {},
   "source": [
    "## CSV"
   ]
  },
  {
   "cell_type": "code",
   "execution_count": 7,
   "id": "ebe0c470",
   "metadata": {},
   "outputs": [],
   "source": [
    "# import location_temp dataset\n",
    "file_path = data_path + \"/location_temp.csv\"\n",
    "df1 = spark.read.format(\"csv\").option(\"header\", \"true\").load(file_path)"
   ]
  },
  {
   "cell_type": "code",
   "execution_count": 9,
   "id": "b21cfbbd",
   "metadata": {},
   "outputs": [
    {
     "data": {
      "text/plain": [
       "[Row(event_date='03/04/2019 19:48:06', location_id='loc0', temp_celcius='29'),\n",
       " Row(event_date='03/04/2019 19:53:06', location_id='loc0', temp_celcius='27'),\n",
       " Row(event_date='03/04/2019 19:58:06', location_id='loc0', temp_celcius='28'),\n",
       " Row(event_date='03/04/2019 20:03:06', location_id='loc0', temp_celcius='30'),\n",
       " Row(event_date='03/04/2019 20:08:06', location_id='loc0', temp_celcius='27'),\n",
       " Row(event_date='03/04/2019 20:13:06', location_id='loc0', temp_celcius='27'),\n",
       " Row(event_date='03/04/2019 20:18:06', location_id='loc0', temp_celcius='27'),\n",
       " Row(event_date='03/04/2019 20:23:06', location_id='loc0', temp_celcius='29'),\n",
       " Row(event_date='03/04/2019 20:28:06', location_id='loc0', temp_celcius='32'),\n",
       " Row(event_date='03/04/2019 20:33:06', location_id='loc0', temp_celcius='35')]"
      ]
     },
     "execution_count": 9,
     "metadata": {},
     "output_type": "execute_result"
    }
   ],
   "source": [
    "df1.head(10)"
   ]
  },
  {
   "cell_type": "code",
   "execution_count": 10,
   "id": "709bd91b",
   "metadata": {},
   "outputs": [
    {
     "name": "stdout",
     "output_type": "stream",
     "text": [
      "+-------------------+-----------+------------+\n",
      "|         event_date|location_id|temp_celcius|\n",
      "+-------------------+-----------+------------+\n",
      "|03/04/2019 19:48:06|       loc0|          29|\n",
      "|03/04/2019 19:53:06|       loc0|          27|\n",
      "|03/04/2019 19:58:06|       loc0|          28|\n",
      "|03/04/2019 20:03:06|       loc0|          30|\n",
      "|03/04/2019 20:08:06|       loc0|          27|\n",
      "|03/04/2019 20:13:06|       loc0|          27|\n",
      "|03/04/2019 20:18:06|       loc0|          27|\n",
      "|03/04/2019 20:23:06|       loc0|          29|\n",
      "|03/04/2019 20:28:06|       loc0|          32|\n",
      "|03/04/2019 20:33:06|       loc0|          35|\n",
      "|03/04/2019 20:38:06|       loc0|          32|\n",
      "|03/04/2019 20:43:06|       loc0|          28|\n",
      "|03/04/2019 20:48:06|       loc0|          28|\n",
      "|03/04/2019 20:53:06|       loc0|          32|\n",
      "|03/04/2019 20:58:06|       loc0|          34|\n",
      "|03/04/2019 21:03:06|       loc0|          33|\n",
      "|03/04/2019 21:08:06|       loc0|          27|\n",
      "|03/04/2019 21:13:06|       loc0|          28|\n",
      "|03/04/2019 21:18:06|       loc0|          33|\n",
      "|03/04/2019 21:23:06|       loc0|          28|\n",
      "+-------------------+-----------+------------+\n",
      "only showing top 20 rows\n",
      "\n"
     ]
    }
   ],
   "source": [
    "df1.show()"
   ]
  },
  {
   "cell_type": "code",
   "execution_count": 11,
   "id": "fb460188",
   "metadata": {},
   "outputs": [
    {
     "data": {
      "text/plain": [
       "500000"
      ]
     },
     "execution_count": 11,
     "metadata": {},
     "output_type": "execute_result"
    }
   ],
   "source": [
    "# number of rows\n",
    "df1.count()"
   ]
  },
  {
   "cell_type": "code",
   "execution_count": 12,
   "id": "e8fbfae3",
   "metadata": {},
   "outputs": [],
   "source": [
    "file_path_no_header = data_path + '/utilization.csv'\n",
    "\n",
    "# since there are no headers in the file, indicate false for header and use inferSchema\n",
    "# to let spark guess the schema\n",
    "df2 = spark.read.format(\"csv\").option(\"header\", \"false\").option('inferSchema', 'true').load(file_path_no_header)"
   ]
  },
  {
   "cell_type": "code",
   "execution_count": 13,
   "id": "cd7296f4",
   "metadata": {},
   "outputs": [
    {
     "name": "stdout",
     "output_type": "stream",
     "text": [
      "+-------------------+---+----+----+---+\n",
      "|                _c0|_c1| _c2| _c3|_c4|\n",
      "+-------------------+---+----+----+---+\n",
      "|03/05/2019 08:06:14|100|0.57|0.51| 47|\n",
      "|03/05/2019 08:11:14|100|0.47|0.62| 43|\n",
      "|03/05/2019 08:16:14|100|0.56|0.57| 62|\n",
      "|03/05/2019 08:21:14|100|0.57|0.56| 50|\n",
      "|03/05/2019 08:26:14|100|0.35|0.46| 43|\n",
      "|03/05/2019 08:31:14|100|0.41|0.58| 48|\n",
      "|03/05/2019 08:36:14|100|0.57|0.35| 58|\n",
      "|03/05/2019 08:41:14|100|0.41| 0.4| 58|\n",
      "|03/05/2019 08:46:14|100|0.53|0.35| 62|\n",
      "|03/05/2019 08:51:14|100|0.51| 0.6| 45|\n",
      "|03/05/2019 08:56:14|100|0.32|0.37| 47|\n",
      "|03/05/2019 09:01:14|100|0.62|0.59| 60|\n",
      "|03/05/2019 09:06:14|100|0.66|0.72| 57|\n",
      "|03/05/2019 09:11:14|100|0.54|0.54| 44|\n",
      "|03/05/2019 09:16:14|100|0.29| 0.4| 47|\n",
      "|03/05/2019 09:21:14|100|0.43|0.68| 66|\n",
      "|03/05/2019 09:26:14|100|0.49|0.66| 65|\n",
      "|03/05/2019 09:31:14|100|0.64|0.55| 66|\n",
      "|03/05/2019 09:36:14|100|0.42| 0.6| 42|\n",
      "|03/05/2019 09:41:14|100|0.55|0.59| 63|\n",
      "+-------------------+---+----+----+---+\n",
      "only showing top 20 rows\n",
      "\n"
     ]
    }
   ],
   "source": [
    "df2.show()"
   ]
  },
  {
   "cell_type": "code",
   "execution_count": 14,
   "id": "ed81e620",
   "metadata": {},
   "outputs": [
    {
     "data": {
      "text/plain": [
       "500000"
      ]
     },
     "execution_count": 14,
     "metadata": {},
     "output_type": "execute_result"
    }
   ],
   "source": [
    "df2.count()"
   ]
  },
  {
   "cell_type": "code",
   "execution_count": 15,
   "id": "04e07f31",
   "metadata": {},
   "outputs": [],
   "source": [
    "# rename columns\n",
    "df2 = df2.withColumnRenamed(\"_c0\", \"event_datetime\") \\\n",
    "        .withColumnRenamed(\"_c1\", \"server_id\") \\\n",
    "        .withColumnRenamed(\"_c2\", \"cpu_utilization\") \\\n",
    "        .withColumnRenamed(\"_c3\", \"free_memory\") \\\n",
    "        .withColumnRenamed(\"_c4\", \"session_count\")"
   ]
  },
  {
   "cell_type": "code",
   "execution_count": 16,
   "id": "f84d0e46",
   "metadata": {},
   "outputs": [
    {
     "name": "stdout",
     "output_type": "stream",
     "text": [
      "+-------------------+---------+---------------+-----------+-------------+\n",
      "|     event_datetime|server_id|cpu_utilization|free_memory|session_count|\n",
      "+-------------------+---------+---------------+-----------+-------------+\n",
      "|03/05/2019 08:06:14|      100|           0.57|       0.51|           47|\n",
      "|03/05/2019 08:11:14|      100|           0.47|       0.62|           43|\n",
      "|03/05/2019 08:16:14|      100|           0.56|       0.57|           62|\n",
      "|03/05/2019 08:21:14|      100|           0.57|       0.56|           50|\n",
      "|03/05/2019 08:26:14|      100|           0.35|       0.46|           43|\n",
      "|03/05/2019 08:31:14|      100|           0.41|       0.58|           48|\n",
      "|03/05/2019 08:36:14|      100|           0.57|       0.35|           58|\n",
      "|03/05/2019 08:41:14|      100|           0.41|        0.4|           58|\n",
      "|03/05/2019 08:46:14|      100|           0.53|       0.35|           62|\n",
      "|03/05/2019 08:51:14|      100|           0.51|        0.6|           45|\n",
      "|03/05/2019 08:56:14|      100|           0.32|       0.37|           47|\n",
      "|03/05/2019 09:01:14|      100|           0.62|       0.59|           60|\n",
      "|03/05/2019 09:06:14|      100|           0.66|       0.72|           57|\n",
      "|03/05/2019 09:11:14|      100|           0.54|       0.54|           44|\n",
      "|03/05/2019 09:16:14|      100|           0.29|        0.4|           47|\n",
      "|03/05/2019 09:21:14|      100|           0.43|       0.68|           66|\n",
      "|03/05/2019 09:26:14|      100|           0.49|       0.66|           65|\n",
      "|03/05/2019 09:31:14|      100|           0.64|       0.55|           66|\n",
      "|03/05/2019 09:36:14|      100|           0.42|        0.6|           42|\n",
      "|03/05/2019 09:41:14|      100|           0.55|       0.59|           63|\n",
      "+-------------------+---------+---------------+-----------+-------------+\n",
      "only showing top 20 rows\n",
      "\n"
     ]
    }
   ],
   "source": [
    "df2.show()"
   ]
  },
  {
   "cell_type": "markdown",
   "id": "652eb8ec",
   "metadata": {},
   "source": [
    "## JSON"
   ]
  },
  {
   "cell_type": "code",
   "execution_count": 21,
   "id": "e3091669",
   "metadata": {},
   "outputs": [],
   "source": [
    "json_df1_path = data_path + \"/utlization.json\"\n",
    "df1_json = spark.read.format(\"json\").load(json_df1_path)"
   ]
  },
  {
   "cell_type": "code",
   "execution_count": 22,
   "id": "2e115997",
   "metadata": {},
   "outputs": [
    {
     "data": {
      "text/plain": [
       "500000"
      ]
     },
     "execution_count": 22,
     "metadata": {},
     "output_type": "execute_result"
    }
   ],
   "source": [
    "df1_json.count()"
   ]
  },
  {
   "cell_type": "code",
   "execution_count": 23,
   "id": "950d74c6",
   "metadata": {},
   "outputs": [
    {
     "name": "stdout",
     "output_type": "stream",
     "text": [
      "+---------------+-------------------+-----------+---------+-------------+\n",
      "|cpu_utilization|     event_datetime|free_memory|server_id|session_count|\n",
      "+---------------+-------------------+-----------+---------+-------------+\n",
      "|           0.57|03/05/2019 08:06:14|       0.51|      100|           47|\n",
      "|           0.47|03/05/2019 08:11:14|       0.62|      100|           43|\n",
      "|           0.56|03/05/2019 08:16:14|       0.57|      100|           62|\n",
      "|           0.57|03/05/2019 08:21:14|       0.56|      100|           50|\n",
      "|           0.35|03/05/2019 08:26:14|       0.46|      100|           43|\n",
      "|           0.41|03/05/2019 08:31:14|       0.58|      100|           48|\n",
      "|           0.57|03/05/2019 08:36:14|       0.35|      100|           58|\n",
      "|           0.41|03/05/2019 08:41:14|        0.4|      100|           58|\n",
      "|           0.53|03/05/2019 08:46:14|       0.35|      100|           62|\n",
      "|           0.51|03/05/2019 08:51:14|        0.6|      100|           45|\n",
      "|           0.32|03/05/2019 08:56:14|       0.37|      100|           47|\n",
      "|           0.62|03/05/2019 09:01:14|       0.59|      100|           60|\n",
      "|           0.66|03/05/2019 09:06:14|       0.72|      100|           57|\n",
      "|           0.54|03/05/2019 09:11:14|       0.54|      100|           44|\n",
      "|           0.29|03/05/2019 09:16:14|        0.4|      100|           47|\n",
      "|           0.43|03/05/2019 09:21:14|       0.68|      100|           66|\n",
      "|           0.49|03/05/2019 09:26:14|       0.66|      100|           65|\n",
      "|           0.64|03/05/2019 09:31:14|       0.55|      100|           66|\n",
      "|           0.42|03/05/2019 09:36:14|        0.6|      100|           42|\n",
      "|           0.55|03/05/2019 09:41:14|       0.59|      100|           63|\n",
      "+---------------+-------------------+-----------+---------+-------------+\n",
      "only showing top 20 rows\n",
      "\n"
     ]
    }
   ],
   "source": [
    "df1_json.show()"
   ]
  },
  {
   "cell_type": "markdown",
   "id": "2809439f",
   "metadata": {},
   "source": [
    "## Working with the data"
   ]
  },
  {
   "cell_type": "code",
   "execution_count": 24,
   "id": "d65f4565",
   "metadata": {},
   "outputs": [
    {
     "data": {
      "text/plain": [
       "['event_datetime',\n",
       " 'server_id',\n",
       " 'cpu_utilization',\n",
       " 'free_memory',\n",
       " 'session_count']"
      ]
     },
     "execution_count": 24,
     "metadata": {},
     "output_type": "execute_result"
    }
   ],
   "source": [
    "df2.columns"
   ]
  },
  {
   "cell_type": "code",
   "execution_count": 25,
   "id": "a2b64a4d",
   "metadata": {},
   "outputs": [
    {
     "data": {
      "text/plain": [
       "['event_date', 'location_id', 'temp_celcius']"
      ]
     },
     "execution_count": 25,
     "metadata": {},
     "output_type": "execute_result"
    }
   ],
   "source": [
    "df1.columns"
   ]
  },
  {
   "cell_type": "code",
   "execution_count": 27,
   "id": "756d0a39",
   "metadata": {},
   "outputs": [],
   "source": [
    "# working with a subset/sample of data\n",
    "# sample with or without replacement\n",
    "# use without replacement so that rows that are pulled from the main df are not put back\n",
    "# to prevent pulling the same rows again when pulling another sample\n",
    "df2_sample = df2.sample(False, fraction=0.1)"
   ]
  },
  {
   "cell_type": "code",
   "execution_count": 29,
   "id": "00369509",
   "metadata": {},
   "outputs": [
    {
     "name": "stdout",
     "output_type": "stream",
     "text": [
      "+-------------------+---------+---------------+-----------+-------------+\n",
      "|     event_datetime|server_id|cpu_utilization|free_memory|session_count|\n",
      "+-------------------+---------+---------------+-----------+-------------+\n",
      "|03/05/2019 08:11:14|      100|           0.47|       0.62|           43|\n",
      "|03/05/2019 08:41:14|      100|           0.41|        0.4|           58|\n",
      "|03/05/2019 09:16:14|      100|           0.29|        0.4|           47|\n",
      "|03/05/2019 10:46:14|      100|           0.57|       0.46|           50|\n",
      "|03/05/2019 11:06:14|      100|           0.32|       0.35|           71|\n",
      "|03/05/2019 11:26:14|      100|           0.64|        0.7|           45|\n",
      "|03/05/2019 11:31:14|      100|           0.66|        0.6|           56|\n",
      "|03/05/2019 14:26:14|      100|           0.36|       0.55|           53|\n",
      "|03/05/2019 16:11:14|      100|           0.54|       0.37|           59|\n",
      "|03/05/2019 16:21:14|      100|           0.29|       0.53|           43|\n",
      "|03/05/2019 18:36:14|      100|           0.31|       0.34|           70|\n",
      "|03/05/2019 20:31:14|      100|           0.56|        0.7|           61|\n",
      "|03/05/2019 20:36:14|      100|           0.35|       0.53|           59|\n",
      "|03/05/2019 20:51:14|      100|           0.49|        0.5|           38|\n",
      "|03/06/2019 00:21:14|      100|           0.43|       0.63|           53|\n",
      "|03/06/2019 02:41:14|      100|           0.62|        0.6|           63|\n",
      "|03/06/2019 02:56:14|      100|           0.39|        0.4|           41|\n",
      "|03/06/2019 03:21:14|      100|           0.41|       0.69|           43|\n",
      "|03/06/2019 03:26:14|      100|           0.48|       0.69|           66|\n",
      "|03/06/2019 05:11:14|      100|           0.55|       0.57|           55|\n",
      "+-------------------+---------+---------------+-----------+-------------+\n",
      "only showing top 20 rows\n",
      "\n"
     ]
    }
   ],
   "source": [
    "df2_sample.show()"
   ]
  },
  {
   "cell_type": "code",
   "execution_count": 30,
   "id": "b258d215",
   "metadata": {},
   "outputs": [],
   "source": [
    "# sorting the sample data\n",
    "df2_sort = df2_sample.sort('event_datetime')"
   ]
  },
  {
   "cell_type": "code",
   "execution_count": 31,
   "id": "9de04340",
   "metadata": {},
   "outputs": [
    {
     "name": "stdout",
     "output_type": "stream",
     "text": [
      "+-------------------+---------+---------------+-----------+-------------+\n",
      "|     event_datetime|server_id|cpu_utilization|free_memory|session_count|\n",
      "+-------------------+---------+---------------+-----------+-------------+\n",
      "|03/05/2019 08:06:16|      101|           0.86|       0.09|           93|\n",
      "|03/05/2019 08:06:31|      110|           0.68|       0.44|           47|\n",
      "|03/05/2019 08:06:56|      125|           0.42|       0.37|           58|\n",
      "|03/05/2019 08:07:17|      136|           0.51|        0.4|           76|\n",
      "|03/05/2019 08:07:28|      141|           0.69|       0.24|           67|\n",
      "|03/05/2019 08:11:14|      100|           0.47|       0.62|           43|\n",
      "|03/05/2019 08:11:21|      104|           0.62|       0.15|           86|\n",
      "|03/05/2019 08:11:26|      107|           0.83|        0.2|           72|\n",
      "|03/05/2019 08:11:41|      116|           0.44|       0.38|           49|\n",
      "|03/05/2019 08:11:48|      120|           0.58|       0.38|           64|\n",
      "|03/05/2019 08:12:28|      141|           0.41|       0.63|           63|\n",
      "|03/05/2019 08:12:31|      143|           0.46|       0.56|           52|\n",
      "|03/05/2019 08:16:50|      121|           0.89|       0.49|           90|\n",
      "|03/05/2019 08:17:00|      127|           0.71|       0.19|           58|\n",
      "|03/05/2019 08:17:17|      136|           0.52|       0.21|           61|\n",
      "|03/05/2019 08:17:28|      141|           0.48|       0.31|           68|\n",
      "|03/05/2019 08:17:33|      144|           0.65|        0.3|           86|\n",
      "|03/05/2019 08:17:44|      149|           0.59|       0.19|           84|\n",
      "|03/05/2019 08:21:17|      102|           0.75|       0.12|           87|\n",
      "|03/05/2019 08:21:48|      120|            0.7|       0.35|           80|\n",
      "+-------------------+---------+---------------+-----------+-------------+\n",
      "only showing top 20 rows\n",
      "\n"
     ]
    }
   ],
   "source": [
    "df2_sort.show()"
   ]
  },
  {
   "cell_type": "markdown",
   "id": "15f6aeb0",
   "metadata": {},
   "source": []
  }
 ],
 "metadata": {
  "kernelspec": {
   "display_name": "Python 3 (ipykernel)",
   "language": "python",
   "name": "python3"
  },
  "language_info": {
   "codemirror_mode": {
    "name": "ipython",
    "version": 3
   },
   "file_extension": ".py",
   "mimetype": "text/x-python",
   "name": "python",
   "nbconvert_exporter": "python",
   "pygments_lexer": "ipython3",
   "version": "3.9.13"
  }
 },
 "nbformat": 4,
 "nbformat_minor": 5
}
